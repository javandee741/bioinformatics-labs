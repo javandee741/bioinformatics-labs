{
 "cells": [
  {
   "cell_type": "code",
   "execution_count": 44,
   "id": "127c1d32-c922-4b18-a082-1d8b35214564",
   "metadata": {},
   "outputs": [
    {
     "name": "stdout",
     "output_type": "stream",
     "text": [
      ">seq1\n",
      "Length: 131\n",
      "GC%: 50.38\n",
      "Invalid symbols: 0 (-)\n",
      "\n",
      ">seq2\n",
      "Length: 132\n",
      "GC%: 50.76\n",
      "Invalid symbols: 0 (-)\n",
      "\n"
     ]
    }
   ],
   "source": [
    "raw_dict = {}\n",
    "\n",
    "with open(\"files/example.fasta\") as f:\n",
    "    key = None\n",
    "    for line in f:\n",
    "        line = line.strip()\n",
    "        if not line:\n",
    "            continue\n",
    "        if line.startswith(\">\"):\n",
    "            key = line\n",
    "            raw_dict[key] = \"\"\n",
    "        else:\n",
    "            raw_dict[key] += line.upper()  # на всякий случай приводим к верхнему регистру\n",
    "\n",
    "for key, seq in raw_dict.items():\n",
    "    stringHeader = key.split()[0]\n",
    "    length = len(seq)\n",
    "    gc_content = 100 * (seq.count(\"C\") + seq.count(\"G\")) / length\n",
    "    invalid = [b for b in seq if b not in \"ATGCN\"]\n",
    "\n",
    "    print(stringHeader)\n",
    "    print(f\"Length: {length}\")\n",
    "    print(f\"GC%: {gc_content:.2f}\")\n",
    "    print(f\"Invalid symbols: {len(invalid)} ({set(invalid) if invalid else '-'})\\n\")\n"
   ]
  },
  {
   "cell_type": "code",
   "execution_count": null,
   "id": "18f913ad-21ca-4d69-8dc1-ddee0b48e4ed",
   "metadata": {},
   "outputs": [],
   "source": []
  },
  {
   "cell_type": "code",
   "execution_count": null,
   "id": "e0020793-6958-48e7-a4ec-8156bb990e39",
   "metadata": {},
   "outputs": [],
   "source": []
  }
 ],
 "metadata": {
  "kernelspec": {
   "display_name": "Python 3 (ipykernel)",
   "language": "python",
   "name": "python3"
  },
  "language_info": {
   "codemirror_mode": {
    "name": "ipython",
    "version": 3
   },
   "file_extension": ".py",
   "mimetype": "text/x-python",
   "name": "python",
   "nbconvert_exporter": "python",
   "pygments_lexer": "ipython3",
   "version": "3.11.13"
  }
 },
 "nbformat": 4,
 "nbformat_minor": 5
}
