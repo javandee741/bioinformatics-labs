{
 "cells": [
  {
   "cell_type": "code",
   "execution_count": 13,
   "id": "0a739385-5015-4fa0-9db9-a3de358653e0",
   "metadata": {},
   "outputs": [
    {
     "name": "stdout",
     "output_type": "stream",
     "text": [
      "file\tseq_id\tlength\tGC%\n",
      "example.fasta\tseq1\t131\t50.38\n",
      "example.fasta\tseq2\t133\t50.38\n",
      "example1.fasta\tseq1\t164\t50.61\n",
      "example1.fasta\tseq2\t178\t50.56\n",
      "example2.fasta\tseq1\t198\t50.51\n",
      "example2.fasta\tseq2\t148\t50.68\n",
      "example3.fasta\tseq1\t197\t50.25\n",
      "example3.fasta\tseq2\t330\t50.30\n"
     ]
    }
   ],
   "source": [
    "import os\n",
    "\n",
    "txt_files = [file for file in os.listdir(\"files/\") if file.endswith('.fasta')]\n",
    "\n",
    "print(\"file\\tseq_id\\tlength\\tGC%\")\n",
    "\n",
    "for fname in txt_files:\n",
    "    raw_dict = {}\n",
    "    with open(os.path.join(\"files\", fname)) as f:\n",
    "        key = None\n",
    "        for line in f:\n",
    "            line = line.strip()\n",
    "            if not line:\n",
    "                continue\n",
    "            if line.startswith(\">\"):\n",
    "                key = line[1:].split()[0]  # убираем '>' и берём id\n",
    "                raw_dict[key] = \"\"\n",
    "            else:\n",
    "                raw_dict[key] += line.upper()\n",
    "\n",
    "    for seq_id, seq in raw_dict.items():\n",
    "        length = len(seq)\n",
    "        if length == 0:\n",
    "            gc_content = 0\n",
    "        else:\n",
    "            gc_content = 100 * (seq.count(\"C\") + seq.count(\"G\")) / length\n",
    "        print(f\"{fname}\\t{seq_id}\\t{length}\\t{gc_content:.2f}\")\n"
   ]
  },
  {
   "cell_type": "code",
   "execution_count": null,
   "id": "17f5b549-18d3-4cf0-bf2f-c67f4a5eacea",
   "metadata": {},
   "outputs": [],
   "source": []
  }
 ],
 "metadata": {
  "kernelspec": {
   "display_name": "Python [conda env:base] *",
   "language": "python",
   "name": "conda-base-py"
  },
  "language_info": {
   "codemirror_mode": {
    "name": "ipython",
    "version": 3
   },
   "file_extension": ".py",
   "mimetype": "text/x-python",
   "name": "python",
   "nbconvert_exporter": "python",
   "pygments_lexer": "ipython3",
   "version": "3.13.5"
  }
 },
 "nbformat": 4,
 "nbformat_minor": 5
}
