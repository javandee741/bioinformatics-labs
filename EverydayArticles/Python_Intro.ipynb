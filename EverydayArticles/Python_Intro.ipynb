{
 "cells": [
  {
   "cell_type": "markdown",
   "id": "8004ab25-9fc9-43ab-8702-57c03d72c22a",
   "metadata": {},
   "source": [
    "Составьте выражение для вычисления в интерпретаторе Python 3 и вставьте в поле ответа результат вычисления:\n",
    "\n",
    "11111⋅1111111\n",
    "11111⋅1111111— произведение чисел 11111 (5 единиц) и 1111111 (7 единиц)"
   ]
  },
  {
   "cell_type": "code",
   "execution_count": 1,
   "id": "932604b1-62af-4ba4-bef5-612138216b34",
   "metadata": {},
   "outputs": [
    {
     "data": {
      "text/plain": [
       "12345554321"
      ]
     },
     "execution_count": 1,
     "metadata": {},
     "output_type": "execute_result"
    }
   ],
   "source": [
    "11111*1111111"
   ]
  },
  {
   "cell_type": "markdown",
   "id": "17c936b4-084e-49db-90c0-6af23058592f",
   "metadata": {},
   "source": [
    "Составьте выражение для вычисления указанной ниже формулы и вставьте в поле ответа вывод интерпретатора после вычисления этого выражения.\n",
    "\n",
    "42/(4+2*(-2))\n",
    "на самом деле, Python 3 не может вычислить подобное выражение, поэтому возникнет ошибка.\n",
    "Впишите вывод интерпретатора Python 3 в поле для ответа."
   ]
  },
  {
   "cell_type": "code",
   "execution_count": 4,
   "id": "d5366bb4-eda4-4e09-8d81-c48b059377fa",
   "metadata": {},
   "outputs": [
    {
     "ename": "ZeroDivisionError",
     "evalue": "division by zero",
     "output_type": "error",
     "traceback": [
      "\u001b[31m---------------------------------------------------------------------------\u001b[39m",
      "\u001b[31mZeroDivisionError\u001b[39m                         Traceback (most recent call last)",
      "\u001b[36mCell\u001b[39m\u001b[36m \u001b[39m\u001b[32mIn[4]\u001b[39m\u001b[32m, line 1\u001b[39m\n\u001b[32m----> \u001b[39m\u001b[32m1\u001b[39m \u001b[32;43m42\u001b[39;49m\u001b[43m/\u001b[49m\u001b[43m(\u001b[49m\u001b[32;43m4\u001b[39;49m\u001b[43m+\u001b[49m\u001b[32;43m2\u001b[39;49m\u001b[43m*\u001b[49m\u001b[43m(\u001b[49m\u001b[43m-\u001b[49m\u001b[32;43m2\u001b[39;49m\u001b[43m)\u001b[49m\u001b[43m)\u001b[49m\n",
      "\u001b[31mZeroDivisionError\u001b[39m: division by zero"
     ]
    }
   ],
   "source": [
    "42/(4+2*(-2))"
   ]
  },
  {
   "cell_type": "markdown",
   "id": "3b645c70-54a2-44a1-af42-11b404fd4c5f",
   "metadata": {},
   "source": [
    "Составьте выражение для вычисления в интерпретаторе Python 3 и вставьте в поле ответа результат вычисления:\n",
    "2014**14\n",
    "Заметьте, насколько большое это число. Во многих других языках программирования работать со значениями такого порядка гораздо сложнее."
   ]
  },
  {
   "cell_type": "code",
   "execution_count": 5,
   "id": "9d1e49c2-8906-49be-ad88-ee86929cd7d1",
   "metadata": {},
   "outputs": [
    {
     "data": {
      "text/plain": [
       "18064773765607550801425251468864907833685590016"
      ]
     },
     "execution_count": 5,
     "metadata": {},
     "output_type": "execute_result"
    }
   ],
   "source": [
    "2014**14"
   ]
  },
  {
   "cell_type": "markdown",
   "id": "8abc48ff-c21d-4086-98fc-22bf2578e9a9",
   "metadata": {},
   "source": [
    "Запишите число 1.2345e3 в виде десятичной дроби."
   ]
  },
  {
   "cell_type": "code",
   "execution_count": 6,
   "id": "6e76364f-d595-49ed-94c8-8a00c283befd",
   "metadata": {},
   "outputs": [
    {
     "data": {
      "text/plain": [
       "1234.5"
      ]
     },
     "execution_count": 6,
     "metadata": {},
     "output_type": "execute_result"
    }
   ],
   "source": [
    "1.2345e3"
   ]
  },
  {
   "cell_type": "markdown",
   "id": "8ab8468d-d317-4dc5-9889-cc78b43c8e28",
   "metadata": {},
   "source": [
    "Запишите число 1.2345e-3 в виде десятичной дроби"
   ]
  },
  {
   "cell_type": "code",
   "execution_count": 7,
   "id": "383972ec-ebc9-4af1-b8fe-0151cf495174",
   "metadata": {},
   "outputs": [
    {
     "data": {
      "text/plain": [
       "0.0012345"
      ]
     },
     "execution_count": 7,
     "metadata": {},
     "output_type": "execute_result"
    }
   ],
   "source": [
    "1.2345e-3"
   ]
  },
  {
   "cell_type": "markdown",
   "id": "4a396580-7591-4cc0-a29b-79df9f129fc5",
   "metadata": {},
   "source": [
    "Составьте выражение для вычисления в интерпретаторе Python 3 и вставьте в поле ответа результат вычисления:\n",
    "2014.0**14\n",
    "Обратите внимание на запись числа: это вещественное число."
   ]
  },
  {
   "cell_type": "code",
   "execution_count": 8,
   "id": "cbe06d71-e183-4ae1-8d62-890483a5c351",
   "metadata": {},
   "outputs": [
    {
     "data": {
      "text/plain": [
       "1.806477376560755e+46"
      ]
     },
     "execution_count": 8,
     "metadata": {},
     "output_type": "execute_result"
    }
   ],
   "source": [
    "2014.0**14"
   ]
  },
  {
   "cell_type": "markdown",
   "id": "6a337994-cc91-4cdc-83c5-c85cd32cd0de",
   "metadata": {},
   "source": [
    "Составьте выражение для вычисления в интерпретаторе Python 3 и вставьте в поле ответа результат вычисления:\n",
    "7/3"
   ]
  },
  {
   "cell_type": "code",
   "execution_count": 9,
   "id": "8acdf017-4e40-40bf-9f83-5b3dcdda4a4f",
   "metadata": {},
   "outputs": [
    {
     "data": {
      "text/plain": [
       "2.3333333333333335"
      ]
     },
     "execution_count": 9,
     "metadata": {},
     "output_type": "execute_result"
    }
   ],
   "source": [
    "7/3"
   ]
  },
  {
   "cell_type": "markdown",
   "id": "dcc9ec90-6e3e-47f1-b327-30419f13b5c9",
   "metadata": {},
   "source": [
    "Составьте выражение для вычисления в интерпретаторе Python 3 и вставьте в поле ответа результат вычисления:\n",
    "7//3"
   ]
  },
  {
   "cell_type": "code",
   "execution_count": 10,
   "id": "8790d55e-4e60-4957-a091-e463875fa51d",
   "metadata": {},
   "outputs": [
    {
     "data": {
      "text/plain": [
       "2"
      ]
     },
     "execution_count": 10,
     "metadata": {},
     "output_type": "execute_result"
    }
   ],
   "source": [
    "7//3"
   ]
  },
  {
   "cell_type": "markdown",
   "id": "78806f1e-f4b3-424d-9b87-687c806f74bc",
   "metadata": {},
   "source": [
    "Составьте выражение для вычисления в интерпретаторе Python 3 и вставьте в поле ответа результат вычисления.\n",
    "Приведите к целому типу число 2.99"
   ]
  },
  {
   "cell_type": "code",
   "execution_count": 11,
   "id": "42750441-ff31-4800-b5c6-a860521a5715",
   "metadata": {},
   "outputs": [
    {
     "data": {
      "text/plain": [
       "2"
      ]
     },
     "execution_count": 11,
     "metadata": {},
     "output_type": "execute_result"
    }
   ],
   "source": [
    "int(2.99)"
   ]
  },
  {
   "cell_type": "markdown",
   "id": "c761c6b3-1c18-4daa-b3d4-6a70d19c7b13",
   "metadata": {},
   "source": [
    "Составьте выражение для вычисления в интерпретаторе Python 3 и вставьте в поле ответа результат вычисления.\n",
    "Приведите к целому типу число -1.6"
   ]
  },
  {
   "cell_type": "code",
   "execution_count": 12,
   "id": "e2d4f94b-bd68-4990-b982-48f9634e3d8d",
   "metadata": {},
   "outputs": [
    {
     "data": {
      "text/plain": [
       "-1"
      ]
     },
     "execution_count": 12,
     "metadata": {},
     "output_type": "execute_result"
    }
   ],
   "source": [
    "int(-1.6)"
   ]
  },
  {
   "cell_type": "markdown",
   "id": "1ddcb1e1-56c0-497c-b915-5ba124edfd6b",
   "metadata": {},
   "source": [
    "Вычислите в python значение выражения\n",
    "9**19 - int(float(9**19))"
   ]
  },
  {
   "cell_type": "code",
   "execution_count": 13,
   "id": "05d44a49-9bb8-4609-a01f-cc3c2dbc6517",
   "metadata": {},
   "outputs": [
    {
     "data": {
      "text/plain": [
       "89"
      ]
     },
     "execution_count": 13,
     "metadata": {},
     "output_type": "execute_result"
    }
   ],
   "source": [
    "9**19-int(float(9**19))"
   ]
  },
  {
   "cell_type": "markdown",
   "id": "01dd621f-37e5-4d39-98fa-e4df4910419a",
   "metadata": {},
   "source": [
    "Коля каждый день ложится спать ровно в полночь и недавно узнал, что оптимальное время для его сна составляет XX минут. Коля хочет поставить себе будильник так, чтобы он прозвенел ровно через XX минут после полуночи, однако для этого необходимо указать время сигнала в формате часы, минуты. Помогите Коле определить, на какое время завести будильник.\n",
    "\n",
    "Часы и минуты в выводе программы должны располагаться на разных строках (см. пример работы программы)\n",
    "\n",
    "Помните, что для считывания данных нужно вызывать функцию input без аргументов!"
   ]
  },
  {
   "cell_type": "code",
   "execution_count": 3,
   "id": "331b60cc-05f5-47b1-96cc-d9cfc65d9a35",
   "metadata": {},
   "outputs": [
    {
     "name": "stdin",
     "output_type": "stream",
     "text": [
      " 512\n"
     ]
    },
    {
     "name": "stdout",
     "output_type": "stream",
     "text": [
      "8\n",
      "32\n"
     ]
    }
   ],
   "source": [
    "x = int(input())\n",
    "print(int(x/60))\n",
    "print(x%60)"
   ]
  },
  {
   "cell_type": "markdown",
   "id": "047720f4-8179-4a4d-8b78-5eda617fad90",
   "metadata": {},
   "source": [
    "Катя узнала, что ей для сна надо XX минут. В отличие от Коли, Катя ложится спать после полуночи в HH часов и MM минут. Помогите Кате определить, на какое время ей поставить будильник, чтобы он прозвенел ровно через XX минут после того, как она ляжет спать.\n",
    "\n",
    "На стандартный ввод, каждое в своей строке, подаются значения XX, HH и MM. Гарантируется, что Катя должна проснуться в тот же день, что и заснуть. Программа должна выводить время, на которое нужно поставить будильник: в первой строке часы, во второй — минуты."
   ]
  },
  {
   "cell_type": "code",
   "execution_count": 4,
   "id": "b9d4b12c-df68-46a2-9c30-ce53e2dc5594",
   "metadata": {},
   "outputs": [
    {
     "name": "stdin",
     "output_type": "stream",
     "text": [
      " 480\n",
      " 1\n",
      " 2\n"
     ]
    },
    {
     "name": "stdout",
     "output_type": "stream",
     "text": [
      "9\n",
      "2\n"
     ]
    }
   ],
   "source": [
    "x = int(input())\n",
    "h = int(input())\n",
    "m = int(input())\n",
    "x += h*60 +m\n",
    "print(int(x/60))\n",
    "print(x%60)"
   ]
  },
  {
   "cell_type": "markdown",
   "id": "812273ab-65fb-43fc-b375-ad750d05208a",
   "metadata": {},
   "source": [
    "Из передачи “Здоровье” Аня узнала, что рекомендуется спать хотя бы AA часов в сутки, но пересыпать тоже вредно и не стоит спать более BB часов. Сейчас Аня спит HH часов в сутки. Если режим сна Ани удовлетворяет рекомендациям передачи “Здоровье”, выведите “Это нормально”. Если Аня спит менее AA часов, выведите “Недосып”, если же более BB часов, то выведите “Пересып”.\n",
    "\n",
    "Получаемое число AA всегда меньше либо равно BB.\n",
    "\n",
    "На вход программе в три строки подаются переменные в следующем порядке: AA, BB, HH.\n",
    "\n",
    "Обратите внимание на регистр символов: вывод должен в точности соответствовать описанному в задании, т. е. если программа должна вывести \"Пересып\", выводы программы \"пересып\", \"ПЕРЕСЫП\", \"ПеРеСыП\" и другие не будут считаться верными.\n",
    "\n",
    "Это первое не самое тривиальное задание на условное выражение. В случаях, когда разбить исполнение программы на несколько направлений, стоит внимательно обдумать все условия, которые нужно использовать. Особое внимание стоит уделить строгости используемых условных операторов: различайте << и ≤≤; >> и ≥≥. Для того, чтобы понимать, какой из них стоит использовать, внимательно прочитайте условие задания."
   ]
  },
  {
   "cell_type": "code",
   "execution_count": 9,
   "id": "bb26ad82-90be-4007-ad3c-deaeb0f825ad",
   "metadata": {},
   "outputs": [
    {
     "name": "stdin",
     "output_type": "stream",
     "text": [
      " 6\n",
      " 8\n",
      " 5\n"
     ]
    },
    {
     "name": "stdout",
     "output_type": "stream",
     "text": [
      "Недосып\n"
     ]
    }
   ],
   "source": [
    "a = int(input())\n",
    "b = int(input())\n",
    "h = int(input())\n",
    "if h < a:\n",
    "    print(\"Недосып\")\n",
    "elif h >b:\n",
    "    print(\"Пересып\")\n",
    "else:\n",
    "    print(\"Это нормально\")"
   ]
  },
  {
   "cell_type": "markdown",
   "id": "b5688707-45a6-4221-9eb3-2ea5ae27edaa",
   "metadata": {},
   "source": [
    "Требуется определить, является ли данный год високосным.\n",
    "\n",
    "Напомним, что високосными годами считаются те годы, порядковый номер которых либо кратен 4, но при этом не кратен 100, либо кратен 400 (например, 2000-й год являлся високосным, а 2100-й будет невисокосным годом).\n",
    "\n",
    "Программа должна корректно работать на числах 1900≤n≤3000.\n",
    "\n",
    "Выведите \"Високосный\" в случае, если считанный год является високосным и \"Обычный\" в обратном случае (не забывайте проверять регистр выводимых программой символов)."
   ]
  },
  {
   "cell_type": "code",
   "execution_count": 35,
   "id": "e52380cc-202b-455f-8845-c5910ef15fed",
   "metadata": {},
   "outputs": [
    {
     "name": "stdin",
     "output_type": "stream",
     "text": [
      " 2000\n"
     ]
    },
    {
     "name": "stdout",
     "output_type": "stream",
     "text": [
      "Високосный\n"
     ]
    }
   ],
   "source": [
    "y = int(input())\n",
    "if y%4==0 and (y%100!=0 or y%400==0):\n",
    "    print(\"Високосный\")\n",
    "else:\n",
    "    print(\"Обычный\")"
   ]
  },
  {
   "cell_type": "code",
   "execution_count": 39,
   "id": "4d25222d-2c25-480c-ac35-0fd9789582e3",
   "metadata": {},
   "outputs": [
    {
     "data": {
      "text/plain": [
       "False"
      ]
     },
     "execution_count": 39,
     "metadata": {},
     "output_type": "execute_result"
    }
   ],
   "source": [
    " \"239\" > \"30\" and 239 > 30"
   ]
  }
 ],
 "metadata": {
  "kernelspec": {
   "display_name": "Python 3 (ipykernel)",
   "language": "python",
   "name": "python3"
  },
  "language_info": {
   "codemirror_mode": {
    "name": "ipython",
    "version": 3
   },
   "file_extension": ".py",
   "mimetype": "text/x-python",
   "name": "python",
   "nbconvert_exporter": "python",
   "pygments_lexer": "ipython3",
   "version": "3.11.13"
  }
 },
 "nbformat": 4,
 "nbformat_minor": 5
}
